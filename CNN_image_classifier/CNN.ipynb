{
 "cells": [
  {
   "cell_type": "markdown",
   "id": "47405096-bade-4492-b435-061e071d9830",
   "metadata": {},
   "source": [
    "Dataset from: https://www.kaggle.com/datasets/biancaferreira/african-wildlife\n",
    "The objective was image classification between different animals, given that \n",
    "there were four animals in the dataset, therefore, four classes. When using\n",
    "two different animals and the zebra dataset is involved, it presents high accuracy,\n",
    "when more animals are involved, the accuracy starts to diminish, here are the accuracy\n",
    "results for the different combinations possible within the dataset\n",
    "\n",
    "buffalo x zebra : 0.95\n",
    "buffalo x elephant: 0.75\n",
    "buffalo x rhino: 0.48\n",
    "\n",
    "elephant x zebra: 0.94\n",
    "elephant x buffalo: 0.75\n",
    "elephant x rhino: 0.49\n",
    "\n",
    "rhino x zebra: 0.96\n",
    "rhino x buffalo: 0.48\n",
    "rhino x elephant: 0.49\n",
    "\n",
    "rhino x zebra x elephant: 0.75\n",
    "buffalo x zebra x elephant: 0.81\n",
    "buffalo x rhino x elephant: 0.67\n",
    "\n",
    "buffalo x zebra x elephant x rhino: 0.71"
   ]
  },
  {
   "cell_type": "code",
   "execution_count": null,
   "id": "f74a4bc5-443f-4ad8-9767-ac2e514b5d8c",
   "metadata": {},
   "outputs": [],
   "source": [
    "import pandas as pd\n",
    "import numpy as np\n",
    "from matplotlib.pyplot import imshow\n",
    "from sklearn.model_selection import train_test_split\n",
    "import os\n",
    "from PIL import Image\n",
    "import tensorflow as tf\n",
    "from tensorflow import keras\n",
    "from keras.layers import Dense, MaxPooling2D, Conv2D, Flatten, Dropout\n",
    "from keras.models import Sequential\n",
    "import random"
   ]
  },
  {
   "cell_type": "code",
   "execution_count": null,
   "id": "5ea89050-5667-4cbe-bc5e-3c4df117c0d4",
   "metadata": {},
   "outputs": [],
   "source": [
    "import os\n",
    "os.environ['TF_CPP_MIN_LOG_LEVEL'] = '2'\n"
   ]
  },
  {
   "cell_type": "code",
   "execution_count": null,
   "id": "ba0e8ab4-8f01-409f-a342-b14120f89a7e",
   "metadata": {},
   "outputs": [],
   "source": [
    "classes = ['buffalo', 'elephant', 'rhino', 'zebra']"
   ]
  },
  {
   "cell_type": "code",
   "execution_count": null,
   "id": "2903cf4a-7193-4098-9b62-8d6fb86ffce4",
   "metadata": {
    "tags": []
   },
   "outputs": [],
   "source": [
    "# images = [[imread(os.path.join('./'+direc+'/',image)) for image in os.listdir('./'+direc+'/') if image.endswith('.jpg')] for direc in classes]"
   ]
  },
  {
   "cell_type": "code",
   "execution_count": null,
   "id": "4bc9715b-46b7-434c-be3e-ab8b9eac271b",
   "metadata": {
    "tags": []
   },
   "outputs": [],
   "source": [
    "images = []\n",
    "labels = []\n",
    "for direct in classes:\n",
    "    for filename in os.listdir('./'+direct+'/'):\n",
    "        if filename.endswith('.jpg'):\n",
    "            image = Image.open(os.path.join('./'+direct+'/', filename))\n",
    "            image = image.resize((128, 128), Image.ANTIALIAS)\n",
    "            image = np.asarray(image)\n",
    "            # im1 = image\n",
    "            # im2 = tf.image.flip_up_down(image)\n",
    "            # im3 = tf.image.rot90(im1, 1)\n",
    "            # im4 = tf.image.flip_left_right(image)\n",
    "            images.append(image)\n",
    "            label = classes.index(direct)\n",
    "            labels.append(label)"
   ]
  },
  {
   "cell_type": "code",
   "execution_count": null,
   "id": "c4c4d6cc-0b0a-4837-8999-c28ed0238970",
   "metadata": {},
   "outputs": [],
   "source": [
    "X = np.asarray(images)\n",
    "y = np.asarray(labels)"
   ]
  },
  {
   "cell_type": "code",
   "execution_count": null,
   "id": "740d761f-4ee8-4f77-9a83-ff4b0f2314f8",
   "metadata": {},
   "outputs": [],
   "source": [
    "X_train, X_test, y_train, y_test = train_test_split(X, y, test_size=0.25)"
   ]
  },
  {
   "cell_type": "code",
   "execution_count": null,
   "id": "1f2fcea0-bcec-459c-ad6d-7589c8cb3f61",
   "metadata": {},
   "outputs": [],
   "source": [
    "X_train, X_vali, y_train, y_vali = train_test_split(X_train, y_train, test_size=0.2)"
   ]
  },
  {
   "cell_type": "code",
   "execution_count": null,
   "id": "400cf5d8-f095-48e1-8b6b-62f1022935dc",
   "metadata": {},
   "outputs": [],
   "source": [
    "X_train.shape"
   ]
  },
  {
   "cell_type": "code",
   "execution_count": null,
   "id": "ecdd8499-a9e7-4c11-a6e4-100072779216",
   "metadata": {
    "tags": []
   },
   "outputs": [],
   "source": [
    "tmp_x = []\n",
    "tmp_y = []\n",
    "for i in range(X_train.shape[0]):\n",
    "    im0 = (X_train[i])\n",
    "    im1 = (tf.image.flip_up_down(X_train[i]))\n",
    "    im2 = (tf.image.rot90(X_train[i], 1))\n",
    "    im3 = (tf.image.flip_left_right(X_train[i]))\n",
    "    im4 = (keras.preprocessing.image.random_zoom(X_train[i], (.5,.4)))\n",
    "    im5 = (keras.preprocessing.image.random_shear(im3,25))\n",
    "    label = y_train[i]\n",
    "    tmp_x.extend([im0, im1, im2, im3, im4, im5])\n",
    "    tmp_y.extend([label, label, label, label, label, label])\n",
    "    "
   ]
  },
  {
   "cell_type": "code",
   "execution_count": null,
   "id": "b77122ec-dc19-4ce0-ac02-b3d0c351705b",
   "metadata": {},
   "outputs": [],
   "source": [
    "idx = list(range(len(tmp_x)))\n",
    "random.shuffle(idx)"
   ]
  },
  {
   "cell_type": "code",
   "execution_count": null,
   "id": "429d57cf-7c0a-426e-83f2-d2d139ca017d",
   "metadata": {
    "tags": []
   },
   "outputs": [],
   "source": [
    "X_train = []\n",
    "y_train = []\n",
    "for i in idx:\n",
    "    X_train.append(tmp_x[i])\n",
    "    y_train.append(tmp_y[i])"
   ]
  },
  {
   "cell_type": "code",
   "execution_count": null,
   "id": "6c412eaf-d1b2-4901-9c4c-1f8aa8c1f2f9",
   "metadata": {},
   "outputs": [],
   "source": [
    "X_train = np.asarray(X_train)\n",
    "y_train = np.asarray(y_train)"
   ]
  },
  {
   "cell_type": "code",
   "execution_count": null,
   "id": "27427c2d-7681-44c9-9e70-9b7633e12070",
   "metadata": {},
   "outputs": [],
   "source": [
    "X_train.shape"
   ]
  },
  {
   "cell_type": "code",
   "execution_count": null,
   "id": "645b3dd4-6735-498c-9d06-663e4cbdab24",
   "metadata": {},
   "outputs": [],
   "source": [
    "i=1218\n",
    "example = X_train[i]\n",
    "# example = np.rot90(example, 1)\n",
    "imshow(example)\n",
    "print(classes[y_train[i]])"
   ]
  },
  {
   "cell_type": "code",
   "execution_count": null,
   "id": "c4ecd811-1875-48b5-87e0-8e0d4b6931b4",
   "metadata": {},
   "outputs": [],
   "source": [
    "X_train, X_test, X_vali = X_train / 255.0, X_test / 255.0, X_vali / 255.0"
   ]
  },
  {
   "cell_type": "code",
   "execution_count": null,
   "id": "e78a7d1e-e3d4-4d7c-a693-4fb176231a48",
   "metadata": {},
   "outputs": [],
   "source": [
    "model = Sequential()\n",
    "model.add(Conv2D(16, (3,3), activation='relu', input_shape=(128, 128, 3)))\n",
    "model.add(MaxPooling2D((2,2)))\n",
    "model.add(Conv2D(32, (3,3), activation='relu'))\n",
    "model.add(MaxPooling2D((2,2)))\n",
    "model.add(Conv2D(64, (3,3), activation='relu'))\n",
    "model.add(MaxPooling2D((2,2)))\n",
    "model.add(Conv2D(128, (3,3), activation='relu'))\n",
    "model.add(MaxPooling2D())\n",
    "\n",
    "\n",
    "model.add(Flatten())\n",
    "model.add(Dense(128, activation='relu'))\n",
    "model.add(Dropout(0.4))\n",
    "model.add(Dense(128, activation='relu'))\n",
    "model.add(Dropout(0.4))\n",
    "model.add(Dense(128, activation='relu'))\n",
    "model.add(Dropout(0.4))\n",
    "model.add(Dense(64, activation='relu'))\n",
    "model.add(Dense(32, activation='relu'))\n",
    "model.add(Dense(len(classes)))"
   ]
  },
  {
   "cell_type": "code",
   "execution_count": null,
   "id": "0099f490-ec50-4db5-bbef-d5dea6c54b64",
   "metadata": {},
   "outputs": [],
   "source": [
    "X_train.shape"
   ]
  },
  {
   "cell_type": "code",
   "execution_count": null,
   "id": "d8527e1e-0430-44cf-95a0-d75b77e2098d",
   "metadata": {},
   "outputs": [],
   "source": [
    "\n",
    "model.compile(optimizer='adam',\n",
    "              loss=keras.losses.SparseCategoricalCrossentropy(from_logits=True),\n",
    "              metrics=['accuracy'])\n",
    "\n",
    "history = model.fit(X_train, y_train, epochs=30, \n",
    "                    validation_data=(X_vali, y_vali))"
   ]
  },
  {
   "cell_type": "code",
   "execution_count": null,
   "id": "c68c36fc-fa92-4519-8ab5-63cd4df07aa7",
   "metadata": {},
   "outputs": [],
   "source": [
    "test_loss, test_acc = model.evaluate(X_test, y_test, verbose=2)\n",
    "print(test_acc)"
   ]
  }
 ],
 "metadata": {
  "kernelspec": {
   "display_name": "Python 3 (ipykernel)",
   "language": "python",
   "name": "python3"
  },
  "language_info": {
   "codemirror_mode": {
    "name": "ipython",
    "version": 3
   },
   "file_extension": ".py",
   "mimetype": "text/x-python",
   "name": "python",
   "nbconvert_exporter": "python",
   "pygments_lexer": "ipython3",
   "version": "3.10.4"
  }
 },
 "nbformat": 4,
 "nbformat_minor": 5
}
