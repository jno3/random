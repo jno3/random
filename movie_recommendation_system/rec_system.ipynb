{
 "cells": [
  {
   "cell_type": "markdown",
   "id": "ee2119e5-f7e7-4bd1-ab1b-96a3178dd84e",
   "metadata": {},
   "source": [
    "Attempt to create a movie recommendation system, data acquired at: https://www.kaggle.com/datasets/victorsoeiro/dark-matter-tv-shows-and-movies,\n",
    "title recommendation is based on the information regarding the titles.csv and credit recomendation is based on credits.csv"
   ]
  },
  {
   "cell_type": "code",
   "execution_count": 1,
   "id": "d5fe4f39-8a18-4661-abc4-54785a86b6e3",
   "metadata": {},
   "outputs": [],
   "source": [
    "import pandas as pd\n",
    "import numpy as np\n",
    "from sklearn.preprocessing import OneHotEncoder, MinMaxScaler\n",
    "from sklearn.neighbors import NearestNeighbors\n",
    "from sklearn.metrics import accuracy_score\n",
    "from random import randint"
   ]
  },
  {
   "cell_type": "code",
   "execution_count": 2,
   "id": "37b40d2e-3855-4844-9dd0-3aeeda897397",
   "metadata": {},
   "outputs": [],
   "source": [
    "df1 = pd.read_csv('titles.csv')\n",
    "df2 = pd.read_csv('credits.csv')"
   ]
  },
  {
   "cell_type": "code",
   "execution_count": 3,
   "id": "71659735-9d0a-42f3-8502-73990d9eca22",
   "metadata": {},
   "outputs": [],
   "source": [
    "df_titles = df1.copy()\n",
    "drop_titles = ['age_certification', 'seasons', 'imdb_id']\n",
    "df_titles.drop(drop_titles, axis=1, inplace=True)\n",
    "\n",
    "df_credits = df2.copy()\n",
    "drop_credits = ['character']\n",
    "df_credits.drop(drop_credits, axis=1, inplace=True)"
   ]
  },
  {
   "cell_type": "code",
   "execution_count": 4,
   "id": "dcbd5cf9-2803-4054-92e0-e68d0e6ab528",
   "metadata": {},
   "outputs": [],
   "source": [
    "genres_agg = df_titles['genres'].unique()"
   ]
  },
  {
   "cell_type": "code",
   "execution_count": 5,
   "id": "fb73bb86-4c49-4a15-bce3-ea9afa1c0b4b",
   "metadata": {},
   "outputs": [],
   "source": [
    "g = []\n",
    "for genres in genres_agg:\n",
    "    if(genres == '[]'):\n",
    "        g.append('[]')\n",
    "        continue\n",
    "\n",
    "    genres_tmp = genres[1:-1]\n",
    "    if(',' in genres_tmp):\n",
    "        genres_tmp = genres_tmp.replace(' ', '').split(',')\n",
    "        for genre in genres_tmp:\n",
    "            if(genre not in g):\n",
    "                g.append(genre)\n",
    "    else:\n",
    "        if genres_tmp not in g:\n",
    "            g.append(genres_tmp)"
   ]
  },
  {
   "cell_type": "code",
   "execution_count": 6,
   "id": "ef807354-716a-4405-8587-8feca4bbe1c6",
   "metadata": {},
   "outputs": [],
   "source": [
    "genres_agg = df_titles['genres']\n",
    "genres = g\n",
    "matrix_ohe_genres = np.zeros(shape=(genres_agg.shape[0], len(genres)))"
   ]
  },
  {
   "cell_type": "code",
   "execution_count": 7,
   "id": "723283ba-d975-4069-aa24-bef9110eb990",
   "metadata": {},
   "outputs": [],
   "source": [
    "for i, row in enumerate(genres_agg):\n",
    "    for j, column in enumerate(genres):\n",
    "        if column in row:\n",
    "            matrix_ohe_genres[i][j] = 1"
   ]
  },
  {
   "cell_type": "code",
   "execution_count": 8,
   "id": "459855d6-bf57-4698-8de1-b25262dc88b2",
   "metadata": {},
   "outputs": [],
   "source": [
    "dataframe_ohe_genres = pd.DataFrame(matrix_ohe_genres, columns=genres)"
   ]
  },
  {
   "cell_type": "code",
   "execution_count": 9,
   "id": "de8e19f0-0c80-4830-9873-56cd44f385f1",
   "metadata": {},
   "outputs": [],
   "source": [
    "countries_agg = df_titles['production_countries'].unique()"
   ]
  },
  {
   "cell_type": "code",
   "execution_count": 10,
   "id": "a790ec80-0382-4ca5-95f5-4fe8470d0568",
   "metadata": {},
   "outputs": [],
   "source": [
    "c = []\n",
    "for countries in countries_agg:\n",
    "    if(countries == '[]'):\n",
    "        c.append('[]')\n",
    "        continue\n",
    "    \n",
    "    countries_tmp = countries[1:-1]\n",
    "    if(',' in countries_tmp):\n",
    "        countries_tmp = countries_tmp.replace(' ', '').split(',')\n",
    "        for country in countries_tmp:\n",
    "            if(country not in c):\n",
    "                c.append(country)\n",
    "    else:\n",
    "        if countries_tmp not in c:\n",
    "            c.append(countries_tmp)"
   ]
  },
  {
   "cell_type": "code",
   "execution_count": 11,
   "id": "025e739c-78de-4f76-89b7-b623bf332313",
   "metadata": {},
   "outputs": [],
   "source": [
    "countries_agg = df_titles['production_countries']\n",
    "countries = c\n",
    "matrix_ohe_countries = np.zeros(shape=(countries_agg.shape[0], len(c)))"
   ]
  },
  {
   "cell_type": "code",
   "execution_count": 12,
   "id": "6f57027f-3098-48f2-8d13-d2378a222e97",
   "metadata": {},
   "outputs": [],
   "source": [
    "for i, row in enumerate(countries_agg):\n",
    "    for j, column in enumerate(countries):\n",
    "        if column in row:\n",
    "            matrix_ohe_countries[i][j] = 1"
   ]
  },
  {
   "cell_type": "code",
   "execution_count": 13,
   "id": "ef940b10-eaf4-4e07-b8ed-b80f96814899",
   "metadata": {},
   "outputs": [],
   "source": [
    "dataframe_ohe_countries = pd.DataFrame(matrix_ohe_countries, columns=countries)"
   ]
  },
  {
   "cell_type": "code",
   "execution_count": 14,
   "id": "2aed1a23-c5d9-4ac4-b1fd-85c032d16b25",
   "metadata": {},
   "outputs": [],
   "source": [
    "encoder = OneHotEncoder()\n",
    "scaler = MinMaxScaler()\n",
    "cols_to_encode = ['type']\n",
    "cols_to_scale = ['release_year', 'runtime', 'imdb_score', 'imdb_votes', 'tmdb_popularity', 'tmdb_score']"
   ]
  },
  {
   "cell_type": "code",
   "execution_count": 15,
   "id": "d9915399-c7ef-4cd1-99f7-8996744b3b1f",
   "metadata": {},
   "outputs": [],
   "source": [
    "encoded_cols = pd.DataFrame((encoder.fit_transform(df_titles[cols_to_encode])).toarray(), columns=['MOVIE', 'SHOW'])\n",
    "scaled_cols = pd.DataFrame(scaler.fit_transform(df_titles[cols_to_scale]), columns=sorted(cols_to_scale))"
   ]
  },
  {
   "cell_type": "code",
   "execution_count": 16,
   "id": "c28031a2-4176-4ef3-98ac-3368b0c82085",
   "metadata": {},
   "outputs": [],
   "source": [
    "df_tmp = pd.merge(encoded_cols, scaled_cols, left_index=True, right_index=True, how='outer')\n",
    "df_tmp = pd.merge(df_tmp, dataframe_ohe_countries, left_index=True, right_index=True, how='outer')\n",
    "df_tmp = pd.merge(df_tmp, dataframe_ohe_genres, left_index=True, right_index=True, how='outer')\n",
    "df_tmp = pd.merge(df_tmp, df_titles['id'], left_index=True, right_index=True, how='outer')\n",
    "df_tmp.set_index('id', inplace=True)\n",
    "df_titles_final = df_tmp.fillna(0)"
   ]
  },
  {
   "cell_type": "code",
   "execution_count": 17,
   "id": "26bf0bcf-5c24-4fdc-b09b-32e36ade8ce6",
   "metadata": {},
   "outputs": [],
   "source": [
    "df_credits = df_credits.set_index('id')\n",
    "name_role_agg = (df_credits['name'] + df_credits['role'])\n",
    "name_role_agg_uni = name_role_agg.unique()\n",
    "matrix_ohe_name = np.zeros(shape=(df_titles_final.shape[0], len(name_role_agg_uni)))"
   ]
  },
  {
   "cell_type": "code",
   "execution_count": 18,
   "id": "5b6bd889-4e7f-4233-8fac-9f83d148b06d",
   "metadata": {},
   "outputs": [],
   "source": [
    "for i, row in enumerate(df_titles_final.index):\n",
    "    if row in name_role_agg.index:\n",
    "        tmp_rows = name_role_agg[row]\n",
    "        for tmp_row in tmp_rows:\n",
    "            for j, column in enumerate(name_role_agg_uni):\n",
    "                if(tmp_row == column):\n",
    "                    matrix_ohe_name[i][j] = 1"
   ]
  },
  {
   "cell_type": "code",
   "execution_count": 19,
   "id": "8d492c0d-3dbd-4add-abfe-4c6fd98e17f5",
   "metadata": {},
   "outputs": [],
   "source": [
    "df_credits_final = pd.DataFrame(matrix_ohe_name, columns=name_role_agg_uni)\n",
    "df_credits_final = df_credits_final.set_index([list(df_titles_final.index)])"
   ]
  },
  {
   "cell_type": "code",
   "execution_count": 20,
   "id": "1e9bf1b5-b8c7-43d5-8fa0-1822a4430f2a",
   "metadata": {},
   "outputs": [],
   "source": [
    "df_final = pd.merge(df_credits_final, df_titles_final, left_index=True, right_index=True, how='outer')"
   ]
  },
  {
   "cell_type": "code",
   "execution_count": 21,
   "id": "e5bfbfaf-af6c-4f29-902c-b6d14f03d55b",
   "metadata": {},
   "outputs": [
    {
     "data": {
      "text/html": [
       "<style>#sk-container-id-1 {color: black;background-color: white;}#sk-container-id-1 pre{padding: 0;}#sk-container-id-1 div.sk-toggleable {background-color: white;}#sk-container-id-1 label.sk-toggleable__label {cursor: pointer;display: block;width: 100%;margin-bottom: 0;padding: 0.3em;box-sizing: border-box;text-align: center;}#sk-container-id-1 label.sk-toggleable__label-arrow:before {content: \"▸\";float: left;margin-right: 0.25em;color: #696969;}#sk-container-id-1 label.sk-toggleable__label-arrow:hover:before {color: black;}#sk-container-id-1 div.sk-estimator:hover label.sk-toggleable__label-arrow:before {color: black;}#sk-container-id-1 div.sk-toggleable__content {max-height: 0;max-width: 0;overflow: hidden;text-align: left;background-color: #f0f8ff;}#sk-container-id-1 div.sk-toggleable__content pre {margin: 0.2em;color: black;border-radius: 0.25em;background-color: #f0f8ff;}#sk-container-id-1 input.sk-toggleable__control:checked~div.sk-toggleable__content {max-height: 200px;max-width: 100%;overflow: auto;}#sk-container-id-1 input.sk-toggleable__control:checked~label.sk-toggleable__label-arrow:before {content: \"▾\";}#sk-container-id-1 div.sk-estimator input.sk-toggleable__control:checked~label.sk-toggleable__label {background-color: #d4ebff;}#sk-container-id-1 div.sk-label input.sk-toggleable__control:checked~label.sk-toggleable__label {background-color: #d4ebff;}#sk-container-id-1 input.sk-hidden--visually {border: 0;clip: rect(1px 1px 1px 1px);clip: rect(1px, 1px, 1px, 1px);height: 1px;margin: -1px;overflow: hidden;padding: 0;position: absolute;width: 1px;}#sk-container-id-1 div.sk-estimator {font-family: monospace;background-color: #f0f8ff;border: 1px dotted black;border-radius: 0.25em;box-sizing: border-box;margin-bottom: 0.5em;}#sk-container-id-1 div.sk-estimator:hover {background-color: #d4ebff;}#sk-container-id-1 div.sk-parallel-item::after {content: \"\";width: 100%;border-bottom: 1px solid gray;flex-grow: 1;}#sk-container-id-1 div.sk-label:hover label.sk-toggleable__label {background-color: #d4ebff;}#sk-container-id-1 div.sk-serial::before {content: \"\";position: absolute;border-left: 1px solid gray;box-sizing: border-box;top: 0;bottom: 0;left: 50%;z-index: 0;}#sk-container-id-1 div.sk-serial {display: flex;flex-direction: column;align-items: center;background-color: white;padding-right: 0.2em;padding-left: 0.2em;position: relative;}#sk-container-id-1 div.sk-item {position: relative;z-index: 1;}#sk-container-id-1 div.sk-parallel {display: flex;align-items: stretch;justify-content: center;background-color: white;position: relative;}#sk-container-id-1 div.sk-item::before, #sk-container-id-1 div.sk-parallel-item::before {content: \"\";position: absolute;border-left: 1px solid gray;box-sizing: border-box;top: 0;bottom: 0;left: 50%;z-index: -1;}#sk-container-id-1 div.sk-parallel-item {display: flex;flex-direction: column;z-index: 1;position: relative;background-color: white;}#sk-container-id-1 div.sk-parallel-item:first-child::after {align-self: flex-end;width: 50%;}#sk-container-id-1 div.sk-parallel-item:last-child::after {align-self: flex-start;width: 50%;}#sk-container-id-1 div.sk-parallel-item:only-child::after {width: 0;}#sk-container-id-1 div.sk-dashed-wrapped {border: 1px dashed gray;margin: 0 0.4em 0.5em 0.4em;box-sizing: border-box;padding-bottom: 0.4em;background-color: white;}#sk-container-id-1 div.sk-label label {font-family: monospace;font-weight: bold;display: inline-block;line-height: 1.2em;}#sk-container-id-1 div.sk-label-container {text-align: center;}#sk-container-id-1 div.sk-container {/* jupyter's `normalize.less` sets `[hidden] { display: none; }` but bootstrap.min.css set `[hidden] { display: none !important; }` so we also need the `!important` here to be able to override the default hidden behavior on the sphinx rendered scikit-learn.org. See: https://github.com/scikit-learn/scikit-learn/issues/21755 */display: inline-block !important;position: relative;}#sk-container-id-1 div.sk-text-repr-fallback {display: none;}</style><div id=\"sk-container-id-1\" class=\"sk-top-container\"><div class=\"sk-text-repr-fallback\"><pre>NearestNeighbors(metric=&#x27;cosine&#x27;, n_neighbors=10)</pre><b>In a Jupyter environment, please rerun this cell to show the HTML representation or trust the notebook. <br />On GitHub, the HTML representation is unable to render, please try loading this page with nbviewer.org.</b></div><div class=\"sk-container\" hidden><div class=\"sk-item\"><div class=\"sk-estimator sk-toggleable\"><input class=\"sk-toggleable__control sk-hidden--visually\" id=\"sk-estimator-id-1\" type=\"checkbox\" checked><label for=\"sk-estimator-id-1\" class=\"sk-toggleable__label sk-toggleable__label-arrow\">NearestNeighbors</label><div class=\"sk-toggleable__content\"><pre>NearestNeighbors(metric=&#x27;cosine&#x27;, n_neighbors=10)</pre></div></div></div></div></div>"
      ],
      "text/plain": [
       "NearestNeighbors(metric='cosine', n_neighbors=10)"
      ]
     },
     "execution_count": 21,
     "metadata": {},
     "output_type": "execute_result"
    }
   ],
   "source": [
    "model_nn_titles = NearestNeighbors(metric='cosine', n_neighbors=10)\n",
    "model_nn_titles.fit(df_titles_final.values)"
   ]
  },
  {
   "cell_type": "code",
   "execution_count": 22,
   "id": "6a273b8d-0646-47d9-b9cd-3e502b38fea4",
   "metadata": {},
   "outputs": [
    {
     "data": {
      "text/html": [
       "<style>#sk-container-id-2 {color: black;background-color: white;}#sk-container-id-2 pre{padding: 0;}#sk-container-id-2 div.sk-toggleable {background-color: white;}#sk-container-id-2 label.sk-toggleable__label {cursor: pointer;display: block;width: 100%;margin-bottom: 0;padding: 0.3em;box-sizing: border-box;text-align: center;}#sk-container-id-2 label.sk-toggleable__label-arrow:before {content: \"▸\";float: left;margin-right: 0.25em;color: #696969;}#sk-container-id-2 label.sk-toggleable__label-arrow:hover:before {color: black;}#sk-container-id-2 div.sk-estimator:hover label.sk-toggleable__label-arrow:before {color: black;}#sk-container-id-2 div.sk-toggleable__content {max-height: 0;max-width: 0;overflow: hidden;text-align: left;background-color: #f0f8ff;}#sk-container-id-2 div.sk-toggleable__content pre {margin: 0.2em;color: black;border-radius: 0.25em;background-color: #f0f8ff;}#sk-container-id-2 input.sk-toggleable__control:checked~div.sk-toggleable__content {max-height: 200px;max-width: 100%;overflow: auto;}#sk-container-id-2 input.sk-toggleable__control:checked~label.sk-toggleable__label-arrow:before {content: \"▾\";}#sk-container-id-2 div.sk-estimator input.sk-toggleable__control:checked~label.sk-toggleable__label {background-color: #d4ebff;}#sk-container-id-2 div.sk-label input.sk-toggleable__control:checked~label.sk-toggleable__label {background-color: #d4ebff;}#sk-container-id-2 input.sk-hidden--visually {border: 0;clip: rect(1px 1px 1px 1px);clip: rect(1px, 1px, 1px, 1px);height: 1px;margin: -1px;overflow: hidden;padding: 0;position: absolute;width: 1px;}#sk-container-id-2 div.sk-estimator {font-family: monospace;background-color: #f0f8ff;border: 1px dotted black;border-radius: 0.25em;box-sizing: border-box;margin-bottom: 0.5em;}#sk-container-id-2 div.sk-estimator:hover {background-color: #d4ebff;}#sk-container-id-2 div.sk-parallel-item::after {content: \"\";width: 100%;border-bottom: 1px solid gray;flex-grow: 1;}#sk-container-id-2 div.sk-label:hover label.sk-toggleable__label {background-color: #d4ebff;}#sk-container-id-2 div.sk-serial::before {content: \"\";position: absolute;border-left: 1px solid gray;box-sizing: border-box;top: 0;bottom: 0;left: 50%;z-index: 0;}#sk-container-id-2 div.sk-serial {display: flex;flex-direction: column;align-items: center;background-color: white;padding-right: 0.2em;padding-left: 0.2em;position: relative;}#sk-container-id-2 div.sk-item {position: relative;z-index: 1;}#sk-container-id-2 div.sk-parallel {display: flex;align-items: stretch;justify-content: center;background-color: white;position: relative;}#sk-container-id-2 div.sk-item::before, #sk-container-id-2 div.sk-parallel-item::before {content: \"\";position: absolute;border-left: 1px solid gray;box-sizing: border-box;top: 0;bottom: 0;left: 50%;z-index: -1;}#sk-container-id-2 div.sk-parallel-item {display: flex;flex-direction: column;z-index: 1;position: relative;background-color: white;}#sk-container-id-2 div.sk-parallel-item:first-child::after {align-self: flex-end;width: 50%;}#sk-container-id-2 div.sk-parallel-item:last-child::after {align-self: flex-start;width: 50%;}#sk-container-id-2 div.sk-parallel-item:only-child::after {width: 0;}#sk-container-id-2 div.sk-dashed-wrapped {border: 1px dashed gray;margin: 0 0.4em 0.5em 0.4em;box-sizing: border-box;padding-bottom: 0.4em;background-color: white;}#sk-container-id-2 div.sk-label label {font-family: monospace;font-weight: bold;display: inline-block;line-height: 1.2em;}#sk-container-id-2 div.sk-label-container {text-align: center;}#sk-container-id-2 div.sk-container {/* jupyter's `normalize.less` sets `[hidden] { display: none; }` but bootstrap.min.css set `[hidden] { display: none !important; }` so we also need the `!important` here to be able to override the default hidden behavior on the sphinx rendered scikit-learn.org. See: https://github.com/scikit-learn/scikit-learn/issues/21755 */display: inline-block !important;position: relative;}#sk-container-id-2 div.sk-text-repr-fallback {display: none;}</style><div id=\"sk-container-id-2\" class=\"sk-top-container\"><div class=\"sk-text-repr-fallback\"><pre>NearestNeighbors(metric=&#x27;cosine&#x27;, n_neighbors=10)</pre><b>In a Jupyter environment, please rerun this cell to show the HTML representation or trust the notebook. <br />On GitHub, the HTML representation is unable to render, please try loading this page with nbviewer.org.</b></div><div class=\"sk-container\" hidden><div class=\"sk-item\"><div class=\"sk-estimator sk-toggleable\"><input class=\"sk-toggleable__control sk-hidden--visually\" id=\"sk-estimator-id-2\" type=\"checkbox\" checked><label for=\"sk-estimator-id-2\" class=\"sk-toggleable__label sk-toggleable__label-arrow\">NearestNeighbors</label><div class=\"sk-toggleable__content\"><pre>NearestNeighbors(metric=&#x27;cosine&#x27;, n_neighbors=10)</pre></div></div></div></div></div>"
      ],
      "text/plain": [
       "NearestNeighbors(metric='cosine', n_neighbors=10)"
      ]
     },
     "execution_count": 22,
     "metadata": {},
     "output_type": "execute_result"
    }
   ],
   "source": [
    "model_nn_credits = NearestNeighbors(metric='cosine', n_neighbors=10)\n",
    "model_nn_credits.fit(df_credits_final.values)"
   ]
  },
  {
   "cell_type": "code",
   "execution_count": 23,
   "id": "20aaa4a5-83a4-454b-9c0d-a1bb29948856",
   "metadata": {},
   "outputs": [],
   "source": [
    "def get_movie_rec(movie_title):\n",
    "    i = df_titles[df_titles['title'] == movie_title]['id']\n",
    "    distances, indices = model_nn_titles.kneighbors(df_titles_final.loc[i].values, n_neighbors=6)\n",
    "    print('If you enjoyed '+ movie_title+ ' then we think you\\'ll like:')\n",
    "    for i in range(1, 6):\n",
    "        title = df_titles.iloc[indices[0][i]]['title']\n",
    "        ry = str(df_titles.iloc[indices[0][i]]['release_year'])\n",
    "        print(title + \" (\" + ry + \")\")"
   ]
  },
  {
   "cell_type": "code",
   "execution_count": 24,
   "id": "d1b36b38-5ef1-4a9d-a13a-1eed84df197d",
   "metadata": {},
   "outputs": [],
   "source": [
    "def get_credits_rec(movie_title):\n",
    "    i = df_titles[df_titles['title'] == movie_title]['id']\n",
    "    distances, indices = model_nn_credits.kneighbors((df_credits_final.loc[i]).values, n_neighbors=6)\n",
    "    for j in range(1, 6):\n",
    "        id_movie = (df_titles.iloc[indices[0][j]].id)\n",
    "        \n",
    "        if(i.values[0] not in list(df_credits.index)):\n",
    "            break\n",
    "        a = df_credits.loc[i]\n",
    "        b = df_credits.loc[id_movie]\n",
    "        \n",
    "        idx = (b.index[0])\n",
    "        \n",
    "        a.set_index('person_id', inplace=True)\n",
    "        b.set_index('person_id', inplace=True)\n",
    "        \n",
    "        c =  pd.merge(a, b, left_index=True, right_index=True, how='inner')\n",
    "\n",
    "        rec_title = (df_titles[df_titles['id'] == idx]['title'].values[0])\n",
    "        rec_release = str(df_titles[df_titles['id'] == idx]['release_year'].values[0])\n",
    "        if(c.shape[0] != 0):\n",
    "            print('If you enjoyed ' + movie_title + ' for: ' + \", \".join(str(x) for x in list(c.name_x)) + ', they also appear in \\\"' + rec_title + '\\\" (' + rec_release + ')')"
   ]
  },
  {
   "cell_type": "code",
   "execution_count": 31,
   "id": "c1e16070-90c1-4745-b671-8da87a3dc4e7",
   "metadata": {},
   "outputs": [
    {
     "name": "stdout",
     "output_type": "stream",
     "text": [
      "If you enjoyed Terror Tales then we think you'll like:\n",
      "Parts Unknown (2018)\n",
      "Creeping Crawling (2012)\n",
      "The Passing (2011)\n",
      "A Zombie Croc: Evil Has Been Summoned (2015)\n",
      "Krampus: The Reckoning (2015)\n",
      "If you enjoyed Terror Tales for: Christopher Showerman, they also appear in \"Lady Bug\" (2017)\n",
      "If you enjoyed Terror Tales for: Laurene Landon, Yan Birch, they also appear in \"Agramon's Gate\" (2019)\n",
      "If you enjoyed Terror Tales for: Felissa Rose, they also appear in \"Family Possessions\" (2016)\n",
      "If you enjoyed Terror Tales for: Helene Udy, they also appear in \"Hamlet's Ghost\" (2015)\n",
      "If you enjoyed Terror Tales for: Felissa Rose, they also appear in \"Bethany\" (2017)\n"
     ]
    }
   ],
   "source": [
    "i = randint(0, 1021)\n",
    "\n",
    "movie_title = df_titles.iloc[i].title\n",
    "get_movie_rec(movie_title)\n",
    "get_credits_rec(movie_title)"
   ]
  }
 ],
 "metadata": {
  "kernelspec": {
   "display_name": "Python 3 (ipykernel)",
   "language": "python",
   "name": "python3"
  },
  "language_info": {
   "codemirror_mode": {
    "name": "ipython",
    "version": 3
   },
   "file_extension": ".py",
   "mimetype": "text/x-python",
   "name": "python",
   "nbconvert_exporter": "python",
   "pygments_lexer": "ipython3",
   "version": "3.10.4"
  }
 },
 "nbformat": 4,
 "nbformat_minor": 5
}
